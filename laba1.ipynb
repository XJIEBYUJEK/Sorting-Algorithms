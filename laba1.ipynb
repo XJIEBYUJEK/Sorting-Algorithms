{
 "cells": [
  {
   "cell_type": "code",
   "execution_count": 1,
   "metadata": {},
   "outputs": [],
   "source": [
    "from faker import Faker\n",
    "import numpy.random as npr\n",
    "from dataclasses import dataclass\n",
    "import numpy as np\n",
    "from datetime import datetime\n",
    "from threading import Thread\n",
    "from time import sleep\n",
    "from matplotlib import pyplot as plt"
   ]
  },
  {
   "cell_type": "markdown",
   "metadata": {},
   "source": [
    "# Лабораторная работа №1"
   ]
  },
  {
   "cell_type": "markdown",
   "metadata": {},
   "source": [
    "## Вариант 12."
   ]
  },
  {
   "cell_type": "markdown",
   "metadata": {},
   "source": [
    " Сортировки: Шейкер, Пирамидальная, Быстрая"
   ]
  },
  {
   "cell_type": "code",
   "execution_count": 2,
   "metadata": {},
   "outputs": [],
   "source": [
    "sizes = (100, 500, 1000, 5000, 10000, 30000, 100000)\n",
    "clubsList = (\"Россия Спартак-Владикавказ Владикавказ \",\n",
    "\"Россия Рубин Казань \",\n",
    "\"Россия Сочи Сочи \",\n",
    "\"Россия Енисей Красноярск \",\n",
    "\"Россия Звезда Пермь \",\n",
    "\"Россия Балтика Калининград \",\n",
    "\"Россия СКА-Хабаровск Хабаровск \",\n",
    "\"Россия Салют Белгород \",\n",
    "\"Россия Динамо Брянск \",\n",
    "\"Россия Торпедо Владимир \",\n",
    "\"Россия Ротор-Волгоград Волгоград \",\n",
    "\"Россия Факел Воронеж \",\n",
    "\"Россия Металлург Липецк \",\n",
    "\"Россия Химки Химки \",\n",
    "\"Россия Сибирь Новосибирск \",\n",
    "\"Россия Авангард Курск \",\n",
    "\"Россия Ростов Ростов \",\n",
    "\"Россия Крылья-советов Самара \",\n",
    "\"Россия Сокол Саратов \",\n",
    "\"Россия Урал Екатеренбург \",\n",
    "\"Россия Днепр Смоленск \",\n",
    "\"Россия Шинник Ярославль \",\n",
    "\"Россия Динамо  Москва \",\n",
    "\"Россия Зенит Санкт-Петербург \",\n",
    "\"Россия ЦСКА Москва \",\n",
    "\"Россия Спартак Москва \",\n",
    "\"Россия Локомотив Москва \",\n",
    "\"Украина Шахтер Донецк \",\n",
    "\"Украина Динамо Киев \",\n",
    "\"Украина Заря Луганск \",\n",
    "\"Украина Десна Чернигов \",\n",
    "\"Украина Кривбасс Кривой-Рог \",\n",
    "\"Украина Днепр Днепропетровск \",\n",
    "\"Украина Верес Львов \",\n",
    "\"Украина Звезда Кировоград \",\n",
    "\"Украина Черноморец Одесса \",\n",
    "\"Украина Оболонь Киев \",\n",
    "\"Украина Металлист Харьков \",\n",
    "\"Украина Нефтяник-Укрнефть Ахтырка \",\n",
    "\"Украина Сталь Алчевск \",\n",
    "\"Украина Арсенал Киев \",\n",
    "\"Украина Олимпик Донецк \",\n",
    "\"Украина Металлург Донецк \",\n",
    "\"Украина Львов Львов \",\n",
    "\"Украина Металлург Запорожье \",\n",
    "\"Украина Карпаты Львов \",\n",
    "\"Украина Волынь Луцк \",\n",
    "\"Украина Ворскла Полтава \",\n",
    "\"Украина Харьков Харьков \",\n",
    "\"Украина Говерла-Закарпатье Ужгород \")"
   ]
  },
  {
   "cell_type": "markdown",
   "metadata": {},
   "source": [
    "### 1.  Генератор"
   ]
  },
  {
   "cell_type": "code",
   "execution_count": 3,
   "metadata": {},
   "outputs": [
    {
     "name": "stdout",
     "output_type": "stream",
     "text": [
      "100: ready\n",
      "500: ready\n",
      "1000: ready\n",
      "5000: ready\n",
      "10000: ready\n",
      "30000: ready\n",
      "100000: ready\n"
     ]
    }
   ],
   "source": [
    "fake = Faker('ru_RU')  \n",
    "for size in sizes:\n",
    "    with open(f'arrays/array{size}.txt', 'w') as file:\n",
    "        for _ in range(size):\n",
    "            file.write('{} {} {} {} {} {}\\n'.format(\n",
    "                npr.choice(clubsList),\n",
    "                str(npr.randint(1955, 2020)), \n",
    "                fake.last_name_male(), \n",
    "                fake.first_name_male(), \n",
    "                fake.middle_name_male(),\n",
    "                str(npr.randint(0, 66))\n",
    "            ))\n",
    "        print(f'{size}: ready')"
   ]
  },
  {
   "cell_type": "markdown",
   "metadata": {},
   "source": [
    "### 2. Создание класса и перегрузка его операторов"
   ]
  },
  {
   "cell_type": "code",
   "execution_count": 4,
   "metadata": {},
   "outputs": [],
   "source": [
    "@dataclass\n",
    "class Club:\n",
    "    clubCountry: str\n",
    "    clubName: str\n",
    "    clubCity: str\n",
    "    clubYear: str\n",
    "    coachName: str\n",
    "    clubResult: str\n",
    "     \n",
    "    def __gt__(self, other):\n",
    "        if int(self.clubYear) > int(other.clubYear):\n",
    "            return True\n",
    "        elif int(self.clubYear) == int(other.clubYear):\n",
    "            if self.clubCountry > other.clubCountry:\n",
    "                return True\n",
    "            elif self.clubCountry == other.clubCountry:\n",
    "                if int(self.clubResult) > int(other.clubResult):\n",
    "                    return True\n",
    "                elif int(self.clubResult) == int(other.clubResult):\n",
    "                    if self.clubName > other.clubName:\n",
    "                        return True\n",
    "        return False\n",
    "    \n",
    "    def __ge__(self, other):\n",
    "        if int(self.clubYear) >= int(other.clubYear):\n",
    "            return True\n",
    "        elif int(self.clubYear) == int(other.clubYear):\n",
    "            if self.clubCountry >= other.clubCountry:\n",
    "                return True\n",
    "            elif self.clubCountry == other.clubCountry:\n",
    "                if int(self.clubResult) >= int(other.clubResult):\n",
    "                    return True\n",
    "                elif int(self.clubResult) == int(other.clubResult):\n",
    "                    if self.clubName >= other.clubName:\n",
    "                        return True\n",
    "        return False   \n",
    "    \n",
    "    def __lt__(self, other):\n",
    "        if int(self.clubYear) < int(other.clubYear):\n",
    "            return True\n",
    "        elif int(self.clubYear) == int(other.clubYear):\n",
    "            if self.clubCountry < other.clubCountry:\n",
    "                return True\n",
    "            elif self.clubCountry == other.clubCountry:\n",
    "                if int(self.clubResult) < int(other.clubResult):\n",
    "                    return True\n",
    "                elif int(self.clubResult) == int(other.clubResult):\n",
    "                    if self.clubName < other.clubName:\n",
    "                        return True\n",
    "        return False\n",
    "    \n",
    "    def __le__(self, other):\n",
    "        if int(self.clubYear) <= int(other.clubYear):\n",
    "            return True\n",
    "        elif int(self.clubYear) == int(other.clubYear):\n",
    "            if self.clubCountry <= other.clubCountry:\n",
    "                return True\n",
    "            elif self.clubCountry == other.clubCountry:\n",
    "                if int(self.clubResult) <= int(other.clubResult):\n",
    "                    return True\n",
    "                elif int(self.clubResult) == int(other.clubResult):\n",
    "                    if self.clubName <= other.clubName:\n",
    "                        return True\n",
    "        return False\n",
    "        \n"
   ]
  },
  {
   "cell_type": "markdown",
   "metadata": {},
   "source": [
    "### 3. Создание неотсортированных масивов"
   ]
  },
  {
   "cell_type": "code",
   "execution_count": 5,
   "metadata": {},
   "outputs": [],
   "source": [
    "\n",
    "\n",
    "clubs = np.empty(len(sizes), dtype=np.ndarray)\n",
    "for i, size in enumerate(sizes):\n",
    "    with open(f'arrays/array{size}.txt') as arr:\n",
    "        clubs[i] = np.empty(size, dtype=Club)\n",
    "        for j, string in enumerate(arr.read()[:-1].split('\\n')):\n",
    "            data = string.split()\n",
    "            clubs[i][j] = Club(\n",
    "                clubCountry = data[0],\n",
    "                clubName = data[1],\n",
    "                clubCity = data[2],\n",
    "                clubYear = data[3],\n",
    "                coachName = ' '.join(data[4:7]),\n",
    "                clubResult = data[7]\n",
    "            )"
   ]
  },
  {
   "cell_type": "markdown",
   "metadata": {},
   "source": [
    "### 4. Описание алгоритмов сортировок"
   ]
  },
  {
   "cell_type": "code",
   "execution_count": 6,
   "metadata": {},
   "outputs": [],
   "source": [
    "def shakerSort(data):                   # Шейкер-сортировка:\n",
    "    for i in range(len(data)-1, 0, -1):     # Проходим по массиву справа налево:\n",
    "        swapped = False                         # Сбрасываем флаг\n",
    "        for j in range(i, 0, -1):               # Идём по индексам справа налево:\n",
    "            if data[j] < data[j-1]:                 # Если элемент по данному индексу меньше предыдущего:\n",
    "                data[j], data[j-1] = data[j-1], data[j] # Меняем их местами\n",
    "                swapped = True                          # Запоминаем, что элементы менялись местами\n",
    "        for j in range(i):                      # Идём по индексам слева направо:\n",
    "            if data[j] > data[j+1]:                 # Если элемент по данному индексу больше следующего:\n",
    "                data[j], data[j+1] = data[j+1], data[j] # Меняем их местами\n",
    "                swapped = True                          # Запоминаем, что элементы менялись местами\n",
    "        if not swapped:                         # Если никакие элементы не менялись местами:\n",
    "            return data                             # Возвращаем отсортированный массив\n",
    "\n",
    "def quickSort(data):                    # Быстрая сортировка:\n",
    "    less, pivotList, more = [], [], []      # Выделяем в списке три части: левую, опорные элементы, правую\n",
    "    if len(data) <= 1:                      # Если длина массива меньше либо равна единице:\n",
    "        return data                             # Возвращаем его же\n",
    "    else:                                   # Иначе:\n",
    "        pivot = data[0]                         # Задаём опорный элемент\n",
    "        for i in data:                      # Движемся по массиву:\n",
    "            if i < pivot:                           # Если элемент меньше опорного:\n",
    "                less.append(i)                          # Добавляем этот элемент в левую часть\n",
    "            elif i > pivot:                         # Если элемент больше опорного:\n",
    "                more.append(i)                          # Добавляем этот элемент в правую часть\n",
    "            else:                                   # Иначе:\n",
    "                pivotList.append(i)                     # Добавляем этот элемент в список опорных\n",
    "        less = quickSort(less)                  # Рекурсивно применяем алгоритм к левой части\n",
    "        more = quickSort(more)                  #                               и к правой части\n",
    "        return less + pivotList + more          # Возвращаем левую часть + опорные элементы + правую часть\n",
    "    \n",
    "def heapify(data, n, i):               # Пирамидальная сортировка:\n",
    "    largest = i                             # Сначала создадим метод heapify для восстановления основного свойства кучи\n",
    "    l = 2 * i + 1                           # Представляем корень как самый большой элемент\n",
    "    r = 2 * i + 2                           # создаем правый и левый дочерний элемент\n",
    "    if l < n and data[i] < data[l]:         # Проверяем существует ли левый дочерний элемент больший, чем корень\n",
    "        largest = l                             #\n",
    "    if r < n and data[largest] < data[r]:   # Проверяем существует ли правый дочерний элемент больший, чем корень\n",
    "        largest = r                             #    \n",
    "    if largest != i                        :# Если корень меньше чем какой либо из дочерних элементов:\n",
    "        data[i],data[largest] = data[largest],data[i] # меняем корень и элемент местами        \n",
    "        heapify(data, n, largest)               # Применяем heapify к корню.\n",
    "def heapSort(data):                    # Основная функция сортировки \n",
    "    n = len(data)                           #\n",
    "    for i in range(n, -1, -1):              # Строим max-heap.\n",
    "        heapify(data, n, i)                     #\n",
    "    for i in range(n-1, 0, -1):             # По очереди вынимаем максимальные элементы и помещаем в массив\n",
    "        data[i], data[0] = data[0], data[i]     # \n",
    "        heapify(data, i, 0)                     #\n",
    "    return data                             # Возвращаем отсортированный массив"
   ]
  },
  {
   "cell_type": "markdown",
   "metadata": {},
   "source": [
    "### 5. Сортировка масивов"
   ]
  },
  {
   "cell_type": "code",
   "execution_count": 7,
   "metadata": {
    "scrolled": true
   },
   "outputs": [
    {
     "name": "stdout",
     "output_type": "stream",
     "text": [
      "Размер: 100\t\tСортировка: shaker\t\tВремя работы: 0:00:00.006981\n",
      "Размер: 100\t\tСортировка: quick\t\tВремя работы: 0:00:00.008892\n",
      "Размер: 100\t\tСортировка: heap\t\tВремя работы: 0:00:00.002013\n",
      "Размер: 500\t\tСортировка: shaker\t\tВремя работы: 0:00:00.155494\n",
      "Размер: 500\t\tСортировка: quick\t\tВремя работы: 0:00:00.191490\n",
      "Размер: 500\t\tСортировка: heap\t\tВремя работы: 0:00:00.009911\n",
      "Размер: 1000\t\tСортировка: shaker\t\tВремя работы: 0:00:00.769934\n",
      "Размер: 1000\t\tСортировка: heap\t\tВремя работы: 0:00:00.081781\n",
      "Размер: 1000\t\tСортировка: quick\t\tВремя работы: 0:00:00.758940\n",
      "Размер: 5000\t\tСортировка: heap\t\tВремя работы: 0:00:00.465849\n",
      "Размер: 5000\t\tСортировка: quick\t\tВремя работы: 0:00:01.966151\n",
      "Размер: 5000\t\tСортировка: shaker\t\tВремя работы: 0:00:16.606428\n",
      "Размер: 10000\t\tСортировка: heap\t\tВремя работы: 0:00:01.233750\n",
      "Размер: 10000\t\tСортировка: quick\t\tВремя работы: 0:00:02.447677\n",
      "Размер: 10000\t\tСортировка: shaker\t\tВремя работы: 0:00:21.529669\n",
      "Размер: 30000\t\tСортировка: heap\t\tВремя работы: 0:00:03.402569\n",
      "Размер: 30000\t\tСортировка: quick\t\tВремя работы: 0:00:04.552626\n",
      "Размер: 30000\t\tСортировка: shaker\t\tВремя работы: 0:03:25.166589\n",
      "Размер: 100000\t\tСортировка: heap\t\tВремя работы: 0:00:13.407602\n",
      "Размер: 100000\t\tСортировка: quick\t\tВремя работы: 0:00:15.167044\n",
      "Размер: 100000\t\tСортировка: shaker\t\tВремя работы: 0:17:59.034222\n"
     ]
    }
   ],
   "source": [
    "\n",
    "\n",
    "for i, size in enumerate(sizes):\n",
    "    clubsCopy = clubs[i].copy()\n",
    "    def sortAndOutput(algorithm):\n",
    "        startTime = datetime.now()\n",
    "        if algorithm == 'shaker':\n",
    "            clubsSorted = shakerSort(clubsCopy)\n",
    "        if algorithm == 'quick':\n",
    "            clubsSorted = quickSort(clubsCopy)\n",
    "        if algorithm == 'heap':\n",
    "            clubsSorted = heapSort(clubsCopy)\n",
    "            \n",
    "        with open(f'{algorithm}/{algorithm}{size}.txt', 'w') as file:\n",
    "            file.write('\\n'.join(map(' '.join, map(lambda e: e.__dict__.values(), clubsSorted))))\n",
    "        print(f'Размер: {size}\\t\\tСортировка: {algorithm}\\t\\tВремя работы: {datetime.now()-startTime}')\n",
    "        \n",
    "    \n",
    "    thread1 = Thread(target=sortAndOutput, args=('shaker',))\n",
    "    thread2 = Thread(target=sortAndOutput, args=('quick',))\n",
    "    thread3 = Thread(target=sortAndOutput, args=('heap',))\n",
    "    \n",
    "    thread1.start()\n",
    "    sleep(.5)\n",
    "    thread2.start()\n",
    "    sleep(.5)\n",
    "    thread3.start()\n",
    "    sleep(.5)\n",
    "    \n",
    "    thread1.join()\n",
    "    thread2.join()\n",
    "    thread3.join()"
   ]
  },
  {
   "cell_type": "markdown",
   "metadata": {},
   "source": [
    "### 6. Построение графика. Вывод"
   ]
  },
  {
   "cell_type": "code",
   "execution_count": 9,
   "metadata": {
    "scrolled": false
   },
   "outputs": [
    {
     "data": {
      "image/png": "[encoded data removed]",
      "text/plain": [
       "<Figure size 1152x648 with 1 Axes>"
      ]
     },
     "metadata": {
      "needs_background": "light"
     },
     "output_type": "display_data"
    }
   ],
   "source": [
    "shaker = (0.007, 0.2, 0.8, 16.6, 21.5, 205.2, 1079.)\n",
    "heap = (0.002, 0.01, 0.08, 0.5, 1.2, 3.4, 13.4)\n",
    "quick = (0.009, 0.2, 0.75, 2.0, 2.4, 4.6, 15.2)\n",
    "plt.figure(figsize=(16, 9))\n",
    "plt.grid()\n",
    "plt.loglog(sizes, quick, label='Быстрая')\n",
    "plt.loglog(sizes, shaker, label='Шейкер')\n",
    "plt.loglog(sizes, heap, label='Пирамидальная')\n",
    "plt.legend()\n",
    "plt.show()"
   ]
  },
  {
   "cell_type": "markdown",
   "metadata": {},
   "source": [
    "Из графика следует, что наиболее оптимальной является пирамидальная сортировка, не сильно от нее отстает быстрая сортировка, Шейкер сортировка показала себя как самая медленная с очень большим разрывом на больших объемах данных (от 5000)"
   ]
  }
 ],
 "metadata": {
  "kernelspec": {
   "display_name": "Python 3",
   "language": "python",
   "name": "python3"
  },
  "language_info": {
   "codemirror_mode": {
    "name": "ipython",
    "version": 3
   },
   "file_extension": ".py",
   "mimetype": "text/x-python",
   "name": "python",
   "nbconvert_exporter": "python",
   "pygments_lexer": "ipython3",
   "version": "3.7.3"
  }
 },
 "nbformat": 4,
 "nbformat_minor": 2
}
